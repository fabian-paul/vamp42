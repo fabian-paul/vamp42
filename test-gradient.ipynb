{
 "cells": [
  {
   "cell_type": "code",
   "execution_count": null,
   "metadata": {},
   "outputs": [],
   "source": [
    "import numpy as np\n",
    "import vamp42"
   ]
  },
  {
   "cell_type": "code",
   "execution_count": null,
   "metadata": {},
   "outputs": [],
   "source": [
    "dim = 2  #99\n",
    "X = np.vstack((np.random.randn(100, dim) + 4*np.ones(dim), \n",
    "               np.random.randn(100, dim)))\n",
    "Y = X + np.random.randn(200, dim)\n",
    "\n",
    "vamp_pub = vamp42.VAMP42(X=X, Y=Y, init='random', publication_gradient=True)\n",
    "vamp_rederived = vamp42.VAMP42(X=X, Y=Y, init='random', publication_gradient=False)\n",
    "\n",
    "print('Vamp paper gradient: magnitude error, sign ok:', vamp_pub.selftest())\n",
    "print('Rederived gradient: magnitude error, sign ok:', vamp_rederived.selftest())"
   ]
  },
  {
   "cell_type": "code",
   "execution_count": null,
   "metadata": {},
   "outputs": [],
   "source": []
  }
 ],
 "metadata": {
  "kernelspec": {
   "display_name": "Python 3",
   "language": "python",
   "name": "python3"
  },
  "language_info": {
   "codemirror_mode": {
    "name": "ipython",
    "version": 3
   },
   "file_extension": ".py",
   "mimetype": "text/x-python",
   "name": "python",
   "nbconvert_exporter": "python",
   "pygments_lexer": "ipython3",
   "version": "3.6.7"
  },
  "toc": {
   "base_numbering": 1,
   "nav_menu": {},
   "number_sections": true,
   "sideBar": true,
   "skip_h1_title": false,
   "title_cell": "Table of Contents",
   "title_sidebar": "Contents",
   "toc_cell": false,
   "toc_position": {},
   "toc_section_display": true,
   "toc_window_display": false
  }
 },
 "nbformat": 4,
 "nbformat_minor": 2
}
