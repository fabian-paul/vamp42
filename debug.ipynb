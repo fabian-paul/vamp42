{
 "cells": [
  {
   "cell_type": "code",
   "execution_count": null,
   "metadata": {},
   "outputs": [],
   "source": [
    "import numpy as np\n",
    "import vamp42\n",
    "import pyemma\n",
    "import matplotlib.pyplot as plt\n",
    "%matplotlib inline"
   ]
  },
  {
   "cell_type": "code",
   "execution_count": null,
   "metadata": {},
   "outputs": [],
   "source": [
    "def draw_box(X, Y, normal, intercept, label=None):\n",
    "    maxx=max(np.max(X[:, 0]), np.max(Y[:, 0])) \n",
    "    minx=min(np.min(X[:, 0]), np.min(Y[:, 0]))\n",
    "    maxy=max(np.max(X[:, 1]), np.max(Y[:, 1])) \n",
    "    miny=min(np.min(X[:, 1]), np.min(Y[:, 1]))    \n",
    "    points = []\n",
    "    xcut = -(normal[1]*maxy+intercept)/normal[0]\n",
    "    if minx <= xcut <= maxx:\n",
    "        points.append((xcut, maxy))\n",
    "    xcut = -(normal[1]*miny+intercept)/normal[0]\n",
    "    if minx <= xcut <= maxx:\n",
    "        points.append((xcut, miny))\n",
    "    ycut = -(normal[0]*maxx+intercept)/normal[1]\n",
    "    if miny <= ycut <= maxy:\n",
    "        points.append((maxx, ycut))\n",
    "    ycut = -(normal[0]*minx+intercept)/normal[1]\n",
    "    if miny <= ycut <= maxy:\n",
    "        points.append((minx, ycut))\n",
    "    points = np.array(points)\n",
    "    plt.plot(points[:, 0], points[:, 1], label=label)    \n",
    "    #print(np.vdot(points[0, :], normal) + intercept)\n",
    "    #print(np.vdot(points[1, :], normal) + intercept)"
   ]
  },
  {
   "cell_type": "code",
   "execution_count": null,
   "metadata": {},
   "outputs": [],
   "source": [
    "dim = 2#99\n",
    "X = np.vstack((np.random.randn(100, dim) + 4*np.ones(dim), \n",
    "               np.random.randn(100, dim)))\n",
    "Y = X + np.random.randn(200, dim)\n",
    "print('self test:', vamp42.VAMP42(X, Y).selftest())\n",
    "\n",
    "vamp_a = vamp42.VAMP42(X=X, Y=Y, init='random').run(approx=True)\n",
    "vamp = vamp42.VAMP42(X=X, Y=Y, init=vamp_a.initial).run(approx=False)\n",
    "\n",
    "print(vamp_a._func_calls, vamp._func_calls)\n",
    "print(np.linalg.norm(vamp._gopt))\n",
    "#print(vamp._grad_calls)\n",
    "plt.plot(2-vamp.hist, 'd', label='analytical')\n",
    "plt.plot(2-vamp_a.hist, '--', label='numerical')\n",
    "plt.yscale('log')\n",
    "plt.legend();"
   ]
  },
  {
   "cell_type": "code",
   "execution_count": null,
   "metadata": {},
   "outputs": [],
   "source": [
    "plt.scatter(X[:, 0], X[:, 1], c=vamp.f(X))\n",
    "plt.scatter(Y[:, 0], Y[:, 1], c=vamp.f(Y))\n",
    "normal, intercept, steepness = vamp.ext_hnf\n",
    "draw_box(X, Y, normal, intercept, label='VAMP')\n",
    "normal = vamp.initial[1:]\n",
    "intercept = vamp.initial[0]\n",
    "draw_box(X, Y, normal, intercept, label='init')\n",
    "plt.colorbar()\n",
    "plt.legend()"
   ]
  },
  {
   "cell_type": "code",
   "execution_count": null,
   "metadata": {},
   "outputs": [],
   "source": [
    "#proj = np.dot(np.concatenate((vamp.X, vamp.Y)), vamp.initial)\n",
    "#proj = np.dot(vamp.X, vamp.initial)\n",
    "#print(np.mean(proj))\n",
    "#plt.plot(proj)"
   ]
  },
  {
   "cell_type": "code",
   "execution_count": null,
   "metadata": {},
   "outputs": [],
   "source": []
  },
  {
   "cell_type": "code",
   "execution_count": null,
   "metadata": {},
   "outputs": [],
   "source": []
  }
 ],
 "metadata": {
  "kernelspec": {
   "display_name": "Python 3",
   "language": "python",
   "name": "python3"
  },
  "language_info": {
   "codemirror_mode": {
    "name": "ipython",
    "version": 3
   },
   "file_extension": ".py",
   "mimetype": "text/x-python",
   "name": "python",
   "nbconvert_exporter": "python",
   "pygments_lexer": "ipython3",
   "version": "3.6.7"
  }
 },
 "nbformat": 4,
 "nbformat_minor": 2
}
