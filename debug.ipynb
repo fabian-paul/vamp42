{
 "cells": [
  {
   "cell_type": "code",
   "execution_count": null,
   "metadata": {},
   "outputs": [],
   "source": [
    "import numpy as np\n",
    "import vamp42\n",
    "import matplotlib.pyplot as plt\n",
    "%matplotlib inline"
   ]
  },
  {
   "cell_type": "code",
   "execution_count": null,
   "metadata": {},
   "outputs": [],
   "source": [
    "dim = 2\n",
    "X = np.vstack((np.random.randn(100, dim) + 8*np.ones(dim), \n",
    "               np.random.randn(100, dim)))\n",
    "Y = X + np.random.randn(200, dim)\n",
    "print('self test:', vamp42.VAMP42(X, Y).selftest())\n",
    "\n",
    "vamp = vamp42.VAMP42(X, Y)\n",
    "normal, intercept, steepness = vamp.run(approx=True).ext_hnf\n",
    "print('normal, intercept, steepness:', normal, intercept, steepness)\n",
    "#normal, intercept, steepness = vamp42.VAMP42(X, Y).run(approx=False).ext_hnf\n",
    "#print('normal, intercept, steepness:', normal, intercept, steepness)"
   ]
  },
  {
   "cell_type": "code",
   "execution_count": null,
   "metadata": {},
   "outputs": [],
   "source": [
    "#intercept = -intercept"
   ]
  },
  {
   "cell_type": "code",
   "execution_count": null,
   "metadata": {},
   "outputs": [],
   "source": [
    "plt.scatter(X[:, 0], X[:, 1])\n",
    "plt.scatter(Y[:, 0], Y[:, 1])\n",
    "maxx=max(np.max(X[:, 0]), np.max(Y[:, 0])) \n",
    "minx=min(np.min(X[:, 0]), np.min(Y[:, 0]))\n",
    "maxy=max(np.max(X[:, 1]), np.max(Y[:, 1])) \n",
    "miny=min(np.min(X[:, 1]), np.min(Y[:, 1]))\n",
    "points = []\n",
    "xcut = -(normal[1]*maxy+intercept)/normal[0]\n",
    "if minx <= xcut <= maxx:\n",
    "    points.append((xcut, maxy))\n",
    "xcut = -(normal[1]*miny+intercept)/normal[0]\n",
    "if minx <= xcut <= maxx:\n",
    "    points.append((xcut, miny))\n",
    "ycut = -(normal[0]*maxx+intercept)/normal[1]\n",
    "if miny <= ycut <= maxy:\n",
    "    points.append((maxx, ycut))\n",
    "ycut = -(normal[0]*minx+intercept)/normal[1]\n",
    "if miny <= ycut <= maxy:\n",
    "    points.append((minx, ycut))\n",
    "points = np.array(points)\n",
    "plt.plot(points[:, 0], points[:, 1])"
   ]
  },
  {
   "cell_type": "code",
   "execution_count": null,
   "metadata": {},
   "outputs": [],
   "source": [
    "print(np.vdot(points[0, :], normal) + intercept)\n",
    "print(np.vdot(points[1, :], normal) + intercept)"
   ]
  },
  {
   "cell_type": "code",
   "execution_count": null,
   "metadata": {},
   "outputs": [],
   "source": [
    "vamp.initial"
   ]
  },
  {
   "cell_type": "code",
   "execution_count": null,
   "metadata": {},
   "outputs": [],
   "source": [
    "vamp.hnf"
   ]
  },
  {
   "cell_type": "code",
   "execution_count": null,
   "metadata": {},
   "outputs": [],
   "source": []
  },
  {
   "cell_type": "code",
   "execution_count": null,
   "metadata": {},
   "outputs": [],
   "source": [
    "ones = np.ones(shape=(len(X), 1))\n",
    "X_ = np.hstack((ones, X))\n",
    "Y_ = np.hstack((ones, Y))\n",
    "\n",
    "# find an intial point, by solving the linear problem\n",
    "C00 = np.dot(X_.T, X_)\n",
    "C11 = np.dot(Y_.T, Y_)\n",
    "C01 = np.dot(X_.T, Y_)\n",
    "C00_inv = np.linalg.inv(C00)\n",
    "C11_inv = np.linalg.inv(C11)\n",
    "values, vectors = np.linalg.eigh(np.linalg.multi_dot((C00_inv, C01, C11_inv, C01.T)))\n",
    "order = np.argsort(values)\n",
    "\n",
    "initial = vectors[:, order[-2]]"
   ]
  },
  {
   "cell_type": "code",
   "execution_count": null,
   "metadata": {},
   "outputs": [],
   "source": [
    "values"
   ]
  },
  {
   "cell_type": "code",
   "execution_count": null,
   "metadata": {},
   "outputs": [],
   "source": [
    "order[-2]"
   ]
  },
  {
   "cell_type": "code",
   "execution_count": null,
   "metadata": {},
   "outputs": [],
   "source": [
    "vectors"
   ]
  },
  {
   "cell_type": "code",
   "execution_count": null,
   "metadata": {},
   "outputs": [],
   "source": [
    "initial"
   ]
  },
  {
   "cell_type": "code",
   "execution_count": null,
   "metadata": {},
   "outputs": [],
   "source": []
  }
 ],
 "metadata": {
  "kernelspec": {
   "display_name": "Python 3",
   "language": "python",
   "name": "python3"
  },
  "language_info": {
   "codemirror_mode": {
    "name": "ipython",
    "version": 3
   },
   "file_extension": ".py",
   "mimetype": "text/x-python",
   "name": "python",
   "nbconvert_exporter": "python",
   "pygments_lexer": "ipython3",
   "version": "3.6.7"
  }
 },
 "nbformat": 4,
 "nbformat_minor": 2
}
