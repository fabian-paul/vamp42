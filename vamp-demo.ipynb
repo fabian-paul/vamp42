{
 "cells": [
  {
   "cell_type": "code",
   "execution_count": null,
   "metadata": {},
   "outputs": [],
   "source": [
    "import numpy as np\n",
    "from ipywidgets import interact\n",
    "import matplotlib.pyplot as plt\n",
    "%matplotlib inline\n",
    "from vamp42 import VAMP42"
   ]
  },
  {
   "cell_type": "code",
   "execution_count": null,
   "metadata": {},
   "outputs": [],
   "source": [
    "def draw_line_segment(X, Y, normal, intercept, label=None):\n",
    "    'Convenience fucnction to plot the 0.5 level set of the sigmoid. '\n",
    "    maxx=max(np.max(X[:, 0]), np.max(Y[:, 0])) \n",
    "    minx=min(np.min(X[:, 0]), np.min(Y[:, 0]))\n",
    "    maxy=max(np.max(X[:, 1]), np.max(Y[:, 1])) \n",
    "    miny=min(np.min(X[:, 1]), np.min(Y[:, 1]))    \n",
    "    points = []\n",
    "    xcut = -(normal[1]*maxy+intercept)/normal[0]\n",
    "    if minx <= xcut <= maxx:\n",
    "        points.append((xcut, maxy))\n",
    "    xcut = -(normal[1]*miny+intercept)/normal[0]\n",
    "    if minx <= xcut <= maxx:\n",
    "        points.append((xcut, miny))\n",
    "    ycut = -(normal[0]*maxx+intercept)/normal[1]\n",
    "    if miny <= ycut <= maxy:\n",
    "        points.append((maxx, ycut))\n",
    "    ycut = -(normal[0]*minx+intercept)/normal[1]\n",
    "    if miny <= ycut <= maxy:\n",
    "        points.append((minx, ycut))\n",
    "    points = np.array(points)\n",
    "    plt.plot(points[:, 0], points[:, 1], label=label, color='orange', lw=3)"
   ]
  },
  {
   "cell_type": "code",
   "execution_count": null,
   "metadata": {},
   "outputs": [],
   "source": [
    "dim = 2\n",
    "X = np.vstack((np.random.randn(100, dim) + 4*np.ones(dim), \n",
    "               np.random.randn(100, dim)))\n",
    "Y = X + np.random.randn(200, dim)"
   ]
  },
  {
   "cell_type": "code",
   "execution_count": null,
   "metadata": {},
   "outputs": [],
   "source": [
    "vamp = VAMP42(X, Y, init='linear').run(steps=0)\n",
    "plt.scatter(X[:, 0], X[:, 1], c=vamp.f(X))\n",
    "plt.scatter(Y[:, 0], Y[:, 1], c=vamp.f(Y))\n",
    "for x,y in zip(X, Y):\n",
    "    plt.plot([x[0], y[0]], [x[1], y[1]], '-', c='gray')\n",
    "normal, intercept, _ = vamp.ext_hnf\n",
    "draw_line_segment(X, Y, normal, intercept, label='TICA')\n",
    "plt.legend()"
   ]
  },
  {
   "cell_type": "code",
   "execution_count": null,
   "metadata": {},
   "outputs": [],
   "source": [
    "@interact\n",
    "def show(steps=(0,40,1)):\n",
    "    vamp = VAMP42(X, Y, init=np.array([ 0.03572001, -0.09408172,  0.06941734]))\n",
    "    vamp.run(steps=steps)\n",
    "    plt.figure()\n",
    "    plt.scatter(X[:, 0], X[:, 1], c=vamp.f(X))\n",
    "    plt.scatter(Y[:, 0], Y[:, 1], c=vamp.f(Y))\n",
    "    for x,y in zip(X, Y):\n",
    "        plt.plot([x[0], y[0]], [x[1], y[1]], '-', c='gray')\n",
    "    normal, intercept, _ = vamp.ext_hnf\n",
    "    draw_line_segment(X, Y, normal, intercept, label='VAMP')\n",
    "    plt.text(-3, 7, '%0.3f' % vamp.eigenvalue)\n",
    "    plt.clim((0,1))\n",
    "    plt.colorbar()"
   ]
  },
  {
   "cell_type": "code",
   "execution_count": null,
   "metadata": {},
   "outputs": [],
   "source": [
    "%%script true\n",
    "for steps in range(40):\n",
    "    vamp = VAMP42(X, Y, init=np.array([ 0.03572001, -0.09408172,  0.06941734]))\n",
    "    vamp.run(steps=steps)\n",
    "    plt.figure()\n",
    "    plt.scatter(X[:, 0], X[:, 1], c=vamp.f(X))\n",
    "    plt.scatter(Y[:, 0], Y[:, 1], c=vamp.f(Y))\n",
    "    for x,y in zip(X, Y):\n",
    "        plt.plot([x[0], y[0]], [x[1], y[1]], '-', c='gray')\n",
    "    normal, intercept, steepness = vamp.ext_hnf\n",
    "    draw_line_segment(X, Y, normal, intercept, label='VAMP')\n",
    "    plt.text(-3, 7, '%0.3f' % vamp.eigenvalue)\n",
    "    plt.clim((0,1))\n",
    "    plt.colorbar()\n",
    "    plt.savefig('imgs/%03d.png'%steps, dpi=200)"
   ]
  },
  {
   "cell_type": "code",
   "execution_count": null,
   "metadata": {},
   "outputs": [],
   "source": [
    "#!(cd imgs; ffmpeg -y -r 5 -f image2 -i %03d.png -vcodec libx264 -crf 25 -pix_fmt yuv420p vamp.mp4)"
   ]
  },
  {
   "cell_type": "code",
   "execution_count": null,
   "metadata": {},
   "outputs": [],
   "source": []
  }
 ],
 "metadata": {
  "kernelspec": {
   "display_name": "Python 3",
   "language": "python",
   "name": "python3"
  },
  "language_info": {
   "codemirror_mode": {
    "name": "ipython",
    "version": 3
   },
   "file_extension": ".py",
   "mimetype": "text/x-python",
   "name": "python",
   "nbconvert_exporter": "python",
   "pygments_lexer": "ipython3",
   "version": "3.7.3"
  }
 },
 "nbformat": 4,
 "nbformat_minor": 2
}
